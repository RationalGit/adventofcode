{
 "cells": [
  {
   "cell_type": "code",
   "execution_count": 8,
   "metadata": {},
   "outputs": [],
   "source": [
    "import aocd\n",
    "\n",
    "data = aocd.get_data(day=3, year=2021).split()"
   ]
  },
  {
   "cell_type": "markdown",
   "metadata": {},
   "source": [
    "How to get to the Life Support Reading (submission):\n",
    "\n",
    "If there is only one entry in the list, take that value.\n",
    "\n",
    "Otherwise:\n",
    "\n",
    "* For the 'oxygen': take the most common digit OR 1\n",
    "* for the 'CO2': take the least common digit OR 0\n",
    "* remove all values not matching these criteria, then move on\n",
    "\n",
    "Finally:\n",
    "\n",
    "* Multiply the oxygen value with the CO2 value for the Life Support Reading."
   ]
  },
  {
   "cell_type": "code",
   "execution_count": 53,
   "metadata": {},
   "outputs": [
    {
     "name": "stdout",
     "output_type": "stream",
     "text": [
      "2829354\n"
     ]
    }
   ],
   "source": [
    "number_of_bin_digits = len(data[0])\n",
    "o2_gen_rate = data.copy()\n",
    "co2_scrub_rate = data.copy()\n",
    "o2_pattern = ''\n",
    "co2_pattern = ''\n",
    "\n",
    "for i in range(number_of_bin_digits):\n",
    "    number_of_ratings = len(o2_gen_rate)\n",
    "    if number_of_ratings == 1:\n",
    "        break\n",
    "    # print(f'i: {i}, number of ratings: {number_of_ratings}')\n",
    "    current_digits = [int(item[i]) for item in o2_gen_rate]\n",
    "    most_common = int(sum(current_digits) >= number_of_ratings/2)\n",
    "    o2_pattern += str(most_common)\n",
    "    # print(f'o2 pattern: {o2_pattern}, most common: {most_common}')\n",
    "    \n",
    "    o2_gen_rate = list(filter(lambda x: x.startswith(o2_pattern), o2_gen_rate))\n",
    "\n",
    "for i in range(number_of_bin_digits):\n",
    "    number_of_ratings = len(co2_scrub_rate)\n",
    "    if number_of_ratings == 1:\n",
    "        break\n",
    "    \n",
    "    current_digits = [int(item[i]) for item in co2_scrub_rate]\n",
    "    most_common = int(sum(current_digits) >= number_of_ratings/2)\n",
    "    co2_pattern += str(1 - most_common)\n",
    "    \n",
    "    co2_scrub_rate = list(filter(lambda x: x.startswith(co2_pattern), co2_scrub_rate))\n",
    "\n",
    "o2_gen_rate = int(o2_gen_rate[0], 2)\n",
    "co2_scrub_rate = int(co2_scrub_rate[0], 2)\n",
    "life_support_reading = o2_gen_rate * co2_scrub_rate\n",
    "print(life_support_reading)\n",
    "\n"
   ]
  },
  {
   "cell_type": "markdown",
   "metadata": {},
   "source": [
    "There's some code repetition above, and using the `operators` package it should be fairly simple to abstract away the trivial difference between logic for o2 and CO2 ('>=' vs '<' half readings --> 1 or 0)"
   ]
  },
  {
   "cell_type": "markdown",
   "metadata": {},
   "source": [
    "If I've ever got too much time on my hands in the future, I'd like to explore a matrix solution via numpy. It feels like it should be possible."
   ]
  }
 ],
 "metadata": {
  "interpreter": {
   "hash": "21e94e2bf47e757ef1f32b5370b9d925b3455b2a64005f70661e22cc5695c3bf"
  },
  "kernelspec": {
   "display_name": "Python 3.10.1 64-bit ('adventofcode-W1HwHgPp': pipenv)",
   "language": "python",
   "name": "python3"
  },
  "language_info": {
   "codemirror_mode": {
    "name": "ipython",
    "version": 3
   },
   "file_extension": ".py",
   "mimetype": "text/x-python",
   "name": "python",
   "nbconvert_exporter": "python",
   "pygments_lexer": "ipython3",
   "version": "3.10.1"
  },
  "orig_nbformat": 4
 },
 "nbformat": 4,
 "nbformat_minor": 2
}
